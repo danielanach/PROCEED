{
 "cells": [
  {
   "cell_type": "markdown",
   "metadata": {
    "heading_collapsed": true
   },
   "source": [
    "# OmicLearn | https://github.com/OmicEra/OmicLearn\n",
    "\n",
    "## Session History Data Vis."
   ]
  },
  {
   "cell_type": "code",
   "execution_count": null,
   "metadata": {
    "ExecuteTime": {
     "end_time": "2021-02-04T14:33:40.968266Z",
     "start_time": "2021-02-04T14:33:38.316600Z"
    },
    "hidden": true
   },
   "outputs": [],
   "source": [
    "import pandas as pd\n",
    "import matplotlib.pyplot as plt\n",
    "import plotly.graph_objs as go\n",
    "\n",
    "# Prepare df\n",
    "use_cols = ['Specify the classifier', 'Number of estimators', 'Function for measure the quality', 'Number of max. features', \n",
    "            'roc_auc_mean', 'roc_auc_std', 'pr_auc_mean', 'pr_auc_std', 'precision_mean', 'precision_std', 'recall_mean', \n",
    "            'recall_std', 'f1_mean', 'f1_std', 'accuracy_mean', 'accuracy_std', \n",
    "            'balanced_accuracy_mean', 'balanced_accuracy_std']\n",
    "df = pd.read_csv(\"RandomForest_session_history.csv\", usecols=use_cols)\n",
    "\n",
    "df[\"Model\"] = df[\"Specify the classifier\"] + \"_\" + df[\"Function for measure the quality\"] + \"_\" + \\\n",
    "                df[\"Number of estimators\"].astype(str) + \"_\" + df[\"Number of max. features\"].astype(str)\n",
    "df = df.drop(['Specify the classifier', 'Number of estimators', 'Function for measure the quality', 'Number of max. features'], axis=1)\n",
    "df = df.set_index(\"Model\")\n",
    "df.columns = [_.replace(\"_\", \" \").upper() for _ in df.columns]\n",
    "\n",
    "# Basic Graph with `Matplotlib`\n",
    "df.plot(kind=\"bar\", figsize=(12,5))\n",
    "\n",
    "# Show df\n",
    "df"
   ]
  },
  {
   "cell_type": "markdown",
   "metadata": {
    "heading_collapsed": true
   },
   "source": [
    "# Plotly Graphs"
   ]
  },
  {
   "cell_type": "code",
   "execution_count": null,
   "metadata": {
    "ExecuteTime": {
     "end_time": "2021-02-04T14:33:42.297261Z",
     "start_time": "2021-02-04T14:33:40.970266Z"
    },
    "hidden": true
   },
   "outputs": [],
   "source": [
    "res = []\n",
    "for col in df.columns:\n",
    "    res.append(\n",
    "        go.Bar(\n",
    "            x=df.index.values.tolist(),\n",
    "            y=df[col].values.tolist(),\n",
    "            name=col,\n",
    "            hoverinfo='name+y'\n",
    "        )\n",
    "    )\n",
    "\n",
    "layout = go.Layout(barmode='group', title=\"Comparison of hyperparameters for RandomForest\")\n",
    "fig = go.Figure(data=res, layout=layout)\n",
    "fig.show()"
   ]
  },
  {
   "cell_type": "code",
   "execution_count": null,
   "metadata": {
    "ExecuteTime": {
     "end_time": "2021-02-04T14:33:42.632053Z",
     "start_time": "2021-02-04T14:33:42.299260Z"
    },
    "hidden": true
   },
   "outputs": [],
   "source": [
    "df_t = df.T\n",
    "res = []\n",
    "for col in df_t.columns:\n",
    "    res.append(\n",
    "        go.Bar(\n",
    "            x=df_t.index.values.tolist(),\n",
    "            y=df_t[col].values.tolist(),\n",
    "            name=col,\n",
    "            hoverinfo='name+y'\n",
    "        )\n",
    "    )\n",
    "\n",
    "layout = go.Layout(barmode='group', title=\"Comparison of hyperparameters for RandomForest\")\n",
    "fig = go.Figure(data=res, layout=layout)\n",
    "fig.show()"
   ]
  },
  {
   "cell_type": "markdown",
   "metadata": {
    "heading_collapsed": true
   },
   "source": [
    "# Plotly Graphs with Std Error Bar"
   ]
  },
  {
   "cell_type": "code",
   "execution_count": null,
   "metadata": {
    "ExecuteTime": {
     "end_time": "2021-02-04T14:33:42.931867Z",
     "start_time": "2021-02-04T14:33:42.634054Z"
    },
    "hidden": true,
    "scrolled": false
   },
   "outputs": [],
   "source": [
    "mean_columns = [_ for _ in df.columns if \"MEAN\" in _]\n",
    "mean_values = df[mean_columns]\n",
    "std_columns = [_ for _ in df.columns if \"STD\" in _]\n",
    "std_values = df[std_columns]\n",
    "\n",
    "res = []\n",
    "for col, col2 in zip(mean_columns, std_columns):\n",
    "    res.append(\n",
    "        go.Bar(\n",
    "            x=df.index.values.tolist(),\n",
    "            y=mean_values[col].values.tolist(),\n",
    "            name=col,\n",
    "            hoverinfo='name+y',\n",
    "            error_y=dict(type='data', array=std_values[col2].values.tolist()),\n",
    "        )\n",
    "    )\n",
    "\n",
    "layout = go.Layout(barmode='group', title=\"Comparison of hyperparameters for RandomForest\")\n",
    "fig = go.Figure(data=res, layout=layout)\n",
    "fig.show()"
   ]
  },
  {
   "cell_type": "code",
   "execution_count": null,
   "metadata": {
    "ExecuteTime": {
     "end_time": "2021-02-04T14:33:43.202699Z",
     "start_time": "2021-02-04T14:33:42.933868Z"
    },
    "hidden": true
   },
   "outputs": [],
   "source": [
    "df_t = df.T\n",
    "mean_columns = [_ for _ in df_t.index if \"MEAN\" in _]\n",
    "mean_values = df_t[df_t.index.isin(mean_columns)]\n",
    "std_columns = [_ for _ in df_t.index if \"STD\" in _]\n",
    "std_values = df_t[df_t.index.isin(std_columns)]\n",
    "\n",
    "res = []\n",
    "for col in df_t.columns:\n",
    "    res.append(\n",
    "        go.Bar(\n",
    "            x=mean_columns,\n",
    "            y=mean_values[col].values.tolist(),\n",
    "            name=col,\n",
    "            hoverinfo='name+y',\n",
    "            error_y=dict(type='data', array=std_values[col].values.tolist()),\n",
    "        )\n",
    "    )\n",
    "\n",
    "layout = go.Layout(barmode='group', title=\"Comparison of hyperparameters for RandomForest\")\n",
    "fig = go.Figure(data=res, layout=layout)\n",
    "fig.show()"
   ]
  }
 ],
 "metadata": {
  "kernelspec": {
   "display_name": "Python 3",
   "language": "python",
   "name": "python3"
  },
  "language_info": {
   "codemirror_mode": {
    "name": "ipython",
    "version": 3
   },
   "file_extension": ".py",
   "mimetype": "text/x-python",
   "name": "python",
   "nbconvert_exporter": "python",
   "pygments_lexer": "ipython3",
   "version": "3.7.4"
  }
 },
 "nbformat": 4,
 "nbformat_minor": 2
}
