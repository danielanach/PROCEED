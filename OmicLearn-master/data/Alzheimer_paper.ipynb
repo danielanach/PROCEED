{
 "cells": [
  {
   "source": [
    "# Sample Data: Alzheimer's disease \n",
    "\n",
    "**Downloaded datasets from https://www.embopress.org/doi/full/10.15252/msb.20199356.**\n",
    "\n",
    "### Citation:\n",
    "\n",
    "```Bader, J., Geyer, P., Müller, J., Strauss, M., Koch, M., & Leypoldt, F. et al. (2020). Proteome profiling in cerebrospinal fluid reveals novel biomarkers of Alzheimer's disease. Molecular Systems Biology, 16(6). doi: 10.15252/msb.20199356```\n"
   ],
   "cell_type": "markdown",
   "metadata": {
    "ExecuteTime": {
     "end_time": "2020-09-29T14:26:37.019278Z",
     "start_time": "2020-09-29T14:26:30.560526Z"
    }
   }
  },
  {
   "cell_type": "code",
   "execution_count": 8,
   "metadata": {},
   "outputs": [],
   "source": [
    "import pandas as pd\n",
    "import numpy as np\n",
    "ev1_raw_df = pd.read_excel(\"Dataset_EV1.xlsx\", skiprows=1)\n",
    "ev2_raw_df = pd.read_excel(\"Dataset_EV2.xlsx\")"
   ]
  },
  {
   "cell_type": "code",
   "execution_count": 9,
   "metadata": {
    "ExecuteTime": {
     "end_time": "2020-09-29T14:27:07.041616Z",
     "start_time": "2020-09-29T14:27:06.867587Z"
    },
    "scrolled": true
   },
   "outputs": [],
   "source": [
    "ev1_raw_df.rename(columns = {'Unnamed: 0': 'Genes', 'Unnamed: 1': 'Proteins'}, inplace=True)\n",
    "ev1_raw_df.rename(columns = {k:k.split(\"]\")[1].strip() for k in ev1_raw_df.columns[2:]}, inplace=True)\n",
    "ev1_raw_df.drop(\"Genes\", axis=1, inplace=True)\n",
    "ev1_raw_df.set_index(\"Proteins\", inplace=True)\n",
    "ev1_df = ev1_raw_df.T.reset_index()\n",
    "ev1_df.rename(columns = {'index': 'Samples'}, inplace=True)\n",
    "ev2_raw_df.columns = ['_'+_ for _ in ev2_raw_df.columns]\n",
    "ev2_raw_df.rename(columns={'_sample name': 'Samples'}, inplace=True)"
   ]
  },
  {
   "cell_type": "code",
   "execution_count": 10,
   "metadata": {
    "ExecuteTime": {
     "end_time": "2020-09-29T14:27:17.143046Z",
     "start_time": "2020-09-29T14:27:17.068091Z"
    },
    "tags": []
   },
   "outputs": [
    {
     "output_type": "stream",
     "name": "stdout",
     "text": "Index([&#39;Samples&#39;, &#39;A0A024QZX5;A0A087X1N8;P35237&#39;, &#39;A0A024R0T9;K7ER74;P02655&#39;,\n       &#39;A0A024R3B9;E9PJL7;E9PNH7;E9PR44;E9PRA8;P02511&#39;,\n       &#39;A0A024R3W6;A0A024R412;O60462;O60462-2;O60462-3;O60462-4;O60462-5;Q7LBX6;X5D2Q8&#39;,\n       &#39;A0A024R644;A0A0A0MRU5;A0A1B0GWI2;O75503&#39;, &#39;A0A075B6H7&#39;, &#39;A0A075B6H9&#39;,\n       &#39;A0A075B6I0&#39;, &#39;A0A075B6I1&#39;,\n       ...\n       &#39;_age at CSF collection&#39;, &#39;_gender&#39;, &#39;_t-tau [ng/L]&#39;, &#39;_p-tau [ng/L]&#39;,\n       &#39;_Abeta-42 [ng/L]&#39;, &#39;_Abeta-40 [ng/L]&#39;, &#39;_Abeta-42/Abeta-40 ratio&#39;,\n       &#39;_primary biochemical AD classification&#39;, &#39;_clinical AD diagnosis&#39;,\n       &#39;_MMSE score&#39;],\n      dtype=&#39;object&#39;, length=1554)\n(210, 1554)\n"
    },
    {
     "output_type": "execute_result",
     "data": {
      "text/plain": "       _age at CSF collection  _t-tau [ng/L]  _p-tau [ng/L]  _Abeta-42 [ng/L]  \\\ncount              197.000000     181.000000      98.000000        181.000000   \nmean                67.725888     553.624309      72.448980        687.104972   \nstd                 12.122924     372.272096      40.868692        381.119236   \nmin                 20.000000      78.000000      16.000000        154.000000   \n25%                 63.000000     275.000000      36.750000        417.000000   \n50%                 70.000000     441.000000      73.500000        593.000000   \n75%                 74.000000     802.000000      93.750000        892.000000   \nmax                 88.000000    2390.000000     233.000000       2206.000000   \n\n       _Abeta-40 [ng/L]  _Abeta-42/Abeta-40 ratio  _MMSE score  \ncount        121.000000                121.000000    83.000000  \nmean       10505.842975                  0.078753    25.722892  \nstd         5192.846673                  0.046603     4.028294  \nmin         2450.000000                  0.015910    12.000000  \n25%         6608.000000                  0.044879    23.500000  \n50%         9515.000000                  0.066624    27.000000  \n75%        12967.000000                  0.104904    29.000000  \nmax        26080.000000                  0.369508    30.000000  ",
      "text/html": "<div>\n<style scoped>\n    .dataframe tbody tr th:only-of-type {\n        vertical-align: middle;\n    }\n\n    .dataframe tbody tr th {\n        vertical-align: top;\n    }\n\n    .dataframe thead th {\n        text-align: right;\n    }\n</style>\n<table border=\"1\" class=\"dataframe\">\n  <thead>\n    <tr style=\"text-align: right;\">\n      <th></th>\n      <th>_age at CSF collection</th>\n      <th>_t-tau [ng/L]</th>\n      <th>_p-tau [ng/L]</th>\n      <th>_Abeta-42 [ng/L]</th>\n      <th>_Abeta-40 [ng/L]</th>\n      <th>_Abeta-42/Abeta-40 ratio</th>\n      <th>_MMSE score</th>\n    </tr>\n  </thead>\n  <tbody>\n    <tr>\n      <th>count</th>\n      <td>197.000000</td>\n      <td>181.000000</td>\n      <td>98.000000</td>\n      <td>181.000000</td>\n      <td>121.000000</td>\n      <td>121.000000</td>\n      <td>83.000000</td>\n    </tr>\n    <tr>\n      <th>mean</th>\n      <td>67.725888</td>\n      <td>553.624309</td>\n      <td>72.448980</td>\n      <td>687.104972</td>\n      <td>10505.842975</td>\n      <td>0.078753</td>\n      <td>25.722892</td>\n    </tr>\n    <tr>\n      <th>std</th>\n      <td>12.122924</td>\n      <td>372.272096</td>\n      <td>40.868692</td>\n      <td>381.119236</td>\n      <td>5192.846673</td>\n      <td>0.046603</td>\n      <td>4.028294</td>\n    </tr>\n    <tr>\n      <th>min</th>\n      <td>20.000000</td>\n      <td>78.000000</td>\n      <td>16.000000</td>\n      <td>154.000000</td>\n      <td>2450.000000</td>\n      <td>0.015910</td>\n      <td>12.000000</td>\n    </tr>\n    <tr>\n      <th>25%</th>\n      <td>63.000000</td>\n      <td>275.000000</td>\n      <td>36.750000</td>\n      <td>417.000000</td>\n      <td>6608.000000</td>\n      <td>0.044879</td>\n      <td>23.500000</td>\n    </tr>\n    <tr>\n      <th>50%</th>\n      <td>70.000000</td>\n      <td>441.000000</td>\n      <td>73.500000</td>\n      <td>593.000000</td>\n      <td>9515.000000</td>\n      <td>0.066624</td>\n      <td>27.000000</td>\n    </tr>\n    <tr>\n      <th>75%</th>\n      <td>74.000000</td>\n      <td>802.000000</td>\n      <td>93.750000</td>\n      <td>892.000000</td>\n      <td>12967.000000</td>\n      <td>0.104904</td>\n      <td>29.000000</td>\n    </tr>\n    <tr>\n      <th>max</th>\n      <td>88.000000</td>\n      <td>2390.000000</td>\n      <td>233.000000</td>\n      <td>2206.000000</td>\n      <td>26080.000000</td>\n      <td>0.369508</td>\n      <td>30.000000</td>\n    </tr>\n  </tbody>\n</table>\n</div>"
     },
     "metadata": {},
     "execution_count": 10
    }
   ],
   "source": [
    "df = pd.merge(ev1_df, ev2_raw_df, on=\"Samples\", how='left')\n",
    "print(df.columns)\n",
    "print(df.shape)\n",
    "df.describe()"
   ]
  },
  {
   "cell_type": "code",
   "execution_count": 11,
   "metadata": {
    "ExecuteTime": {
     "end_time": "2020-09-29T14:27:39.001350Z",
     "start_time": "2020-09-29T14:27:38.990359Z"
    },
    "scrolled": true
   },
   "outputs": [
    {
     "output_type": "execute_result",
     "data": {
      "text/plain": "Samples                                   20180618_QX0_JaBa_SA_LC12_5_CSF1_1_8-1xD1xS1fM...\n_collection site                                                                     Sweden\n_age at CSF collection                                                                   71\n_gender                                                                                   f\n_t-tau [ng/L]                                                                           703\n_p-tau [ng/L]                                                                            85\n_Abeta-42 [ng/L]                                                                        562\n_Abeta-40 [ng/L]                                                                        NaN\n_Abeta-42/Abeta-40 ratio                                                                NaN\n_primary biochemical AD classification                                  biochemical control\n_clinical AD diagnosis                                                                  NaN\n_MMSE score                                                                             NaN\nName: 0, dtype: object"
     },
     "metadata": {},
     "execution_count": 11
    }
   ],
   "source": [
    "df.iloc[0,:][ev2_raw_df.columns]"
   ]
  },
  {
   "cell_type": "code",
   "execution_count": 14,
   "metadata": {},
   "outputs": [],
   "source": [
    "# Prepare for the exporting the file\n",
    "df.set_index(\"Samples\", inplace=True)\n",
    "df.replace('Filtered', np.NaN, inplace=True)\n",
    "\n",
    "# Export\n",
    "# df.to_csv(\"Alzheimer_data.csv\", sep=\";\", index=False)\n",
    "writer = pd.ExcelWriter('Alzheimer.xlsx', engine='xlsxwriter')\n",
    "df.to_excel(writer, sheet_name='Data', index=False)\n",
    "writer.save()"
   ]
  }
 ],
 "metadata": {
  "kernelspec": {
   "display_name": "Python 3",
   "language": "python",
   "name": "python3"
  },
  "language_info": {
   "codemirror_mode": {
    "name": "ipython",
    "version": 3
   },
   "file_extension": ".py",
   "mimetype": "text/x-python",
   "name": "python",
   "nbconvert_exporter": "python",
   "pygments_lexer": "ipython3",
   "version": "3.7.6-final"
  }
 },
 "nbformat": 4,
 "nbformat_minor": 2
}